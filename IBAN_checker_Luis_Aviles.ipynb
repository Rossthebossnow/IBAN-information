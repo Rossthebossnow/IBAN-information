{
  "nbformat": 4,
  "nbformat_minor": 0,
  "metadata": {
    "colab": {
      "name": "IBAN_checker_Luis Aviles.ipynb",
      "provenance": [],
      "collapsed_sections": [],
      "authorship_tag": "ABX9TyPBKkPj6hfj1Xmwaq4dc3Xa",
      "include_colab_link": true
    },
    "kernelspec": {
      "name": "python3",
      "display_name": "Python 3"
    },
    "language_info": {
      "name": "python"
    }
  },
  "cells": [
    {
      "cell_type": "markdown",
      "metadata": {
        "id": "view-in-github",
        "colab_type": "text"
      },
      "source": [
        "<a href=\"https://colab.research.google.com/github/Rossthebossnow/IBAN-information/blob/main/IBAN_checker_Luis_Aviles.ipynb\" target=\"_parent\"><img src=\"https://colab.research.google.com/assets/colab-badge.svg\" alt=\"Open In Colab\"/></a>"
      ]
    },
    {
      "cell_type": "code",
      "execution_count": null,
      "metadata": {
        "id": "_mtm-8-D44ji",
        "cellView": "form"
      },
      "outputs": [],
      "source": [
        "#@title IBAN CHECKER, developed by Luis Aviles\n",
        "!pip install schwifty\n",
        "from schwifty import IBAN"
      ]
    },
    {
      "cell_type": "code",
      "source": [
        "#@title <-- click the Play button and enter your IBAN\n",
        "\n",
        "# IE64IRCE92050112345678\n",
        "\n",
        "iban = IBAN(input())\n",
        "\n",
        "print (iban.bic)\n",
        "print (iban.bank_name)\n",
        "print (iban.country_code)\n",
        "print (iban.bank_code)\n",
        "print (iban.account_code)\n",
        "print (iban.country_code)\n",
        "\n"
      ],
      "metadata": {
        "id": "BkxsZ-b2_BWW",
        "cellView": "form"
      },
      "execution_count": null,
      "outputs": []
    },
    {
      "cell_type": "code",
      "source": [
        "#@title <-- with Iban list given\n",
        "\n",
        "iban_list = ['IE64IRCE92050112345678','DE75512108001245126199']\n",
        "\n",
        "for i in iban_list:\n",
        "  iban = IBAN(i)\n",
        "  print (iban.bank_name)\n",
        "  print (iban.country_code)"
      ],
      "metadata": {
        "id": "L4FftKAoJolo",
        "cellView": "form"
      },
      "execution_count": null,
      "outputs": []
    },
    {
      "cell_type": "code",
      "source": [
        ""
      ],
      "metadata": {
        "id": "EvcKlaW1kcxC"
      },
      "execution_count": null,
      "outputs": []
    },
    {
      "cell_type": "code",
      "source": [
        "#@title <-- with Iban list input\n",
        "\n",
        "\n",
        "item = input(\"Enter the list of IBANs separated by comma:  \")\n",
        "\n",
        "# IE64IRCE92050112345678,DE75512108001245126199\n",
        "\n",
        "iban_list = item.split (\",\") #create list from input text\n",
        "x=1\n",
        "\n",
        "for i in iban_list:\n",
        "  iban = IBAN(i)\n",
        "\n",
        "\n",
        "  print(\"Result no: \" + str(x))\n",
        "  print (iban)\n",
        "  print (iban.bic)\n",
        "  print (iban.bank_name)\n",
        "  print (iban.country_code)\n",
        "  print (iban.bank_code)\n",
        "  print (iban.account_code)\n",
        "  print (iban.country_code)\n",
        "  print ()\n",
        "  x += 1\n",
        "\n",
        "\n",
        "\n",
        "  \n"
      ],
      "metadata": {
        "id": "H-GDAPigMWkX",
        "cellView": "form"
      },
      "execution_count": null,
      "outputs": []
    },
    {
      "cell_type": "code",
      "source": [
        "import os"
      ],
      "metadata": {
        "id": "7xIyAHo72vzk"
      },
      "execution_count": null,
      "outputs": []
    }
  ]
}